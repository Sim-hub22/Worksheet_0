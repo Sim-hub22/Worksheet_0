{
  "nbformat": 4,
  "nbformat_minor": 0,
  "metadata": {
    "colab": {
      "provenance": []
    },
    "kernelspec": {
      "name": "python3",
      "display_name": "Python 3"
    },
    "language_info": {
      "name": "python"
    }
  },
  "cells": [
    {
      "cell_type": "markdown",
      "source": [
        "Task 1. Classify Temperatures:\n",
        "1. Create empty lists for temperature classifications:\n",
        "(a) Cold: temperatures below 10°C.\n",
        "(b) Mild: temperatures between 10°C and 15°C.\n",
        "(c) Comfortable: temperatures between 15°C and 20°C.\n",
        "2. Iterate over the temperatures list and add each temperature to the appropriate category.\n",
        "3. Print the lists to verify the classifications.\n"
      ],
      "metadata": {
        "id": "KjZ3Xv8t4NGM"
      }
    },
    {
      "cell_type": "code",
      "source": [
        "temperatures = [\n",
        "    8.2, 17.4, 14.1, 7.9, 18.0, 13.5, 9.0, 17.8, 13.0, 8.5, 16.5, 12.9,\n",
        "    7.7, 17.2, 13.3, 8.4, 16.7, 14.0, 9.5, 18.3, 13.4, 8.1, 17.9, 14.2,\n",
        "    7.6, 17.0, 12.8, 8.0, 16.8, 13.7, 7.8, 17.5, 13.6, 8.7, 17.1, 13.8,\n",
        "    9.2, 18.1, 13.9, 8.3, 16.4, 12.7, 8.9, 18.2, 13.1, 7.8, 16.6, 12.5\n",
        "]\n",
        "\n",
        "cold = []\n",
        "mild = []\n",
        "comfortable = []\n",
        "\n",
        "for temp in temperatures:\n",
        "    if temp < 10:\n",
        "        cold.append(temp)\n",
        "    elif 10 <= temp < 15:\n",
        "        mild.append(temp)\n",
        "    elif 15 <= temp <= 20:\n",
        "        comfortable.append(temp)\n",
        "\n",
        "print(\"Cold temperatures:\", cold)\n",
        "print(\"Mild temperatures:\", mild)\n",
        "print(\"Comfortable temperatures:\", comfortable)"
      ],
      "metadata": {
        "colab": {
          "base_uri": "https://localhost:8080/"
        },
        "id": "Pxulp3FG4bYi",
        "outputId": "8e8e2fb7-4346-4f38-ba5b-7e240e436455"
      },
      "execution_count": null,
      "outputs": [
        {
          "output_type": "stream",
          "name": "stdout",
          "text": [
            "Cold temperatures: [8.2, 7.9, 9.0, 8.5, 7.7, 8.4, 9.5, 8.1, 7.6, 8.0, 7.8, 8.7, 9.2, 8.3, 8.9, 7.8]\n",
            "Mild temperatures: [14.1, 13.5, 13.0, 12.9, 13.3, 14.0, 13.4, 14.2, 12.8, 13.7, 13.6, 13.8, 13.9, 12.7, 13.1, 12.5]\n",
            "Comfortable temperatures: [17.4, 18.0, 17.8, 16.5, 17.2, 16.7, 18.3, 17.9, 17.0, 16.8, 17.5, 17.1, 18.1, 16.4, 18.2, 16.6]\n"
          ]
        }
      ]
    },
    {
      "cell_type": "markdown",
      "source": [
        "Task 2. Based on Data - Answer all the Questions:\n",
        "1. How many times was it mild?\n",
        "(a) Hint: Count the number of items in the mild list and print the result.\n",
        "2. How many times was it comfortable?\n",
        "3. How many times was it cold?\n"
      ],
      "metadata": {
        "id": "Vr-Rqr-g47zB"
      }
    },
    {
      "cell_type": "code",
      "source": [
        "temperatures= [\n",
        "    8.2, 17.4, 14.1, 7.9, 18.0, 13.5, 9.0, 17.8, 13.0, 8.5,\n",
        "    16.5, 12.9, 7.7, 17.2, 13.3, 8.4, 16.7, 14.0, 9.5, 18.3,\n",
        "    13.4, 8.1, 17.9, 14.2, 7.6, 17.0, 12.8, 8.0, 16.8, 13.7,\n",
        "    7.8, 17.5, 13.6, 8.7, 17.1, 13.8, 9.2, 18.1, 13.9, 8.3,\n",
        "    16.4, 12.7, 8.9, 18.2, 13.1, 7.8, 16.6, 12.5\n",
        "]\n",
        "\n",
        "cold=[]\n",
        "mild=[]\n",
        "comfortable=[]\n",
        "\n",
        "for temp in temperatures:\n",
        "    if temp < 10:\n",
        "        cold.append(temp)\n",
        "    elif 10 <= temp < 15:\n",
        "        mild.append(temp)\n",
        "    elif 15 <= temp < 20:\n",
        "        comfortable.append(temp)\n",
        "\n",
        "cold_count = len(cold)\n",
        "mild_count = len(mild)\n",
        "comfortable_count = len(comfortable)\n",
        "\n",
        "\n",
        "print(\"Cold temperatures count is :\", cold_count)\n",
        "print(\"Mild temperatures count is :\", mild_count)\n",
        "print(\"Comfortable temperatures count is :\", comfortable_count)"
      ],
      "metadata": {
        "colab": {
          "base_uri": "https://localhost:8080/"
        },
        "id": "l30CNKCv4_pK",
        "outputId": "f4ad36d1-8bc5-4a94-fc42-5ba9f4671253"
      },
      "execution_count": null,
      "outputs": [
        {
          "output_type": "stream",
          "name": "stdout",
          "text": [
            "Cold temperatures count is : 16\n",
            "Mild temperatures count is : 16\n",
            "Comfortable temperatures count is : 16\n"
          ]
        }
      ]
    },
    {
      "cell_type": "markdown",
      "source": [
        "Task 3. Convert Temperatures from Celsius to Fahrenheit\n",
        "Using the formula for temperature conversion, convert each reading from Celsius to Fahren heit and store it in a new list called temperatures_fahrenheit.\n",
        "Formula: Fahrenheit = (Celsius ×95) + 32\n",
        "1. Iterate over the temperatures list and apply the formula to convert each temperature. 2. Store the results in the new list.\n",
        "3. Print the converted Fahrenheit values.\n"
      ],
      "metadata": {
        "id": "-5twKtgY5vUX"
      }
    },
    {
      "cell_type": "code",
      "source": [
        "temperatures_fahrenheit = []\n",
        "\n",
        "for temp in temperatures:\n",
        "    fahrenheit = round((temp * 9/5) + 32, 2)\n",
        "    temperatures_fahrenheit.append(fahrenheit)\n",
        "\n",
        "print(\"Temperatures in Fahrenheit:\")\n",
        "print(temperatures_fahrenheit)"
      ],
      "metadata": {
        "colab": {
          "base_uri": "https://localhost:8080/"
        },
        "id": "0AhJqzhe50MH",
        "outputId": "2ad2e41d-72bc-413c-c16f-58fc0157a089"
      },
      "execution_count": null,
      "outputs": [
        {
          "output_type": "stream",
          "name": "stdout",
          "text": [
            "Temperatures in Fahrenheit:\n",
            "[46.76, 63.32, 57.38, 46.22, 64.4, 56.3, 48.2, 64.04, 55.4, 47.3, 61.7, 55.22, 45.86, 62.96, 55.94, 47.12, 62.06, 57.2, 49.1, 64.94, 56.12, 46.58, 64.22, 57.56, 45.68, 62.6, 55.04, 46.4, 62.24, 56.66, 46.04, 63.5, 56.48, 47.66, 62.78, 56.84, 48.56, 64.58, 57.02, 46.94, 61.52, 54.86, 48.02, 64.76, 55.58, 46.04, 61.88, 54.5]\n"
          ]
        }
      ]
    },
    {
      "cell_type": "markdown",
      "source": [
        "Task 4. Analyze Temperature Patterns by Time of Day:\n",
        "Scenario: Each day’s readings are grouped as:\n",
        "• Night (00-08),\n",
        "• Evening (08-16),\n",
        "• Day (16-24).\n",
        "1. Create empty lists for night, day, and evening temperatures.\n",
        "2. Iterate over the temperatures list, assigning values to each time-of-day list based on their position.\n",
        "3. Calculate and print the average day-time temperature.\n",
        "4. (Optional) Plot ”day vs. temperature” using matplotlib.\n"
      ],
      "metadata": {
        "id": "KV_d2fOi7BqD"
      }
    },
    {
      "cell_type": "code",
      "source": [
        "import matplotlib.pyplot as plt\n",
        "\n",
        "temperatures = [8.2, 17.4, 14.1, 7.9, 18.0, 13.5, 9.0, 17.8, 13.0, 8.5, 16.5, 12.9,\n",
        "    7.7, 17.2, 13.3, 8.4, 16.7, 14.0, 9.5, 18.3, 13.4, 8.1, 17.9, 14.2,\n",
        "    7.6, 17.0, 12.8, 8.0, 16.8, 13.7, 7.8, 17.5, 13.6, 8.7, 17.1, 13.8,\n",
        "    9.2, 18.1, 13.9, 8.3, 16.4, 12.7, 8.9, 18.2, 13.1, 7.8, 16.6, 12.5]\n",
        "\n",
        "\n",
        "night_temperatures = []\n",
        "evening_temperatures = []\n",
        "day_temperatures = []\n",
        "\n",
        "for i in range(len(temperatures)):\n",
        "    if i % 3 == 0:\n",
        "        night_temperatures.append(temperatures[i])\n",
        "    elif i % 3 == 1:\n",
        "        day_temperatures.append(temperatures[i])\n",
        "    else:\n",
        "        evening_temperatures.append(temperatures[i])\n",
        "\n",
        "# Print the temperatures\n",
        "print(\"Night temperatures:\", night_temperatures)\n",
        "print(\"Day temperatures:\", day_temperatures)\n",
        "print(\"Evening temperatures:\", evening_temperatures)\n",
        "\n",
        "# Calculate and print the average day temperature\n",
        "average_day_temperature = sum(day_temperatures) / len(day_temperatures)\n",
        "print(\"Average day-time temperature:\", average_day_temperature)\n",
        "\n",
        "# Optional plot using matplotlib\n",
        "plt.figure(figsize=(10, 5))  # Set figure size\n",
        "plt.plot(range(len(day_temperatures)), day_temperatures, marker='o', label='Day temperatures')  # Plot with markers and label\n",
        "plt.title(\"Day vs. Temperature\")\n",
        "plt.xlabel(\"Day Time (Index)\")\n",
        "plt.ylabel(\"Temperature (°C)\")\n",
        "plt.legend()  # Show legend\n",
        "plt.grid(True)  # Add gridlines\n",
        "plt.show()\n"
      ],
      "metadata": {
        "colab": {
          "base_uri": "https://localhost:8080/",
          "height": 556
        },
        "id": "VlRwO2yt7En2",
        "outputId": "010643cd-17ee-4f1c-dfcd-350509158065"
      },
      "execution_count": null,
      "outputs": [
        {
          "output_type": "stream",
          "name": "stdout",
          "text": [
            "Night temperatures: [8.2, 7.9, 9.0, 8.5, 7.7, 8.4, 9.5, 8.1, 7.6, 8.0, 7.8, 8.7, 9.2, 8.3, 8.9, 7.8]\n",
            "Day temperatures: [17.4, 18.0, 17.8, 16.5, 17.2, 16.7, 18.3, 17.9, 17.0, 16.8, 17.5, 17.1, 18.1, 16.4, 18.2, 16.6]\n",
            "Evening temperatures: [14.1, 13.5, 13.0, 12.9, 13.3, 14.0, 13.4, 14.2, 12.8, 13.7, 13.6, 13.8, 13.9, 12.7, 13.1, 12.5]\n",
            "Average day-time temperature: 17.343750000000004\n"
          ]
        },
        {
          "output_type": "display_data",
          "data": {
            "text/plain": [
              "<Figure size 1000x500 with 1 Axes>"
            ],
            "image/png": "[encoded data removed]"
          },
          "metadata": {}
        }
      ]
    },
    {
      "cell_type": "markdown",
      "source": [
        "8.1.1 Exercise - Recursion:\n",
        "\n",
        "Task 1 - Sum of Nested Lists:\n",
        "\n",
        "Scenario: You have a list that contains numbers and other lists of numbers (nested lists). You want to find the total sum of all the numbers in this structure.\n",
        "\n",
        "Task:\n",
        "• Write a recursive function sum_nested_list(nested_list) that:\n",
        "1. Takes a nested list (a list that can contain numbers or other lists of numbers) as input.\n",
        "2. Sums all numbers at every depth level of the list, regardless of how deeply nested the numbers are.\n",
        "\n",
        "• Test the function with a sample nested list, such as\n",
        "nested_list = [1, [2, [3, 4], 5], 6, [7, 8]].\n",
        "The result should be the total sum of all the numbers.\n"
      ],
      "metadata": {
        "id": "N_SX4zi69T8V"
      }
    },
    {
      "cell_type": "code",
      "source": [
        "def sum_nested_list(nested_list):\n",
        "    total = 0\n",
        "    for element in nested_list:\n",
        "        if isinstance(element, list):  # If the element is a list, recurse into it\n",
        "            total += sum_nested_list(element)\n",
        "        else:  # If the element is a number, add it to the sum\n",
        "            total += element\n",
        "    return total\n",
        "\n",
        "nested_list = [1, [2, [3, 4], 5], 6, [7, 8]]\n",
        "result = sum_nested_list(nested_list)\n",
        "print(result)"
      ],
      "metadata": {
        "colab": {
          "base_uri": "https://localhost:8080/"
        },
        "id": "o2Vryyk99xMb",
        "outputId": "2d706742-3cde-4107-ba7a-636d071020f6"
      },
      "execution_count": null,
      "outputs": [
        {
          "output_type": "stream",
          "name": "stdout",
          "text": [
            "36\n"
          ]
        }
      ]
    },
    {
      "cell_type": "markdown",
      "source": [
        "Task 2 - Generate All Permutations of a String:\n",
        "\n",
        "Scenario: Given a string, generate all possible permutations of its characters. This is useful for understanding backtracking and recursive depth-first search.\n",
        "\n",
        "Task:\n",
        "• Write a recursive function generate_permutations(s) that:\n",
        "– Takes a string s as input and returns a list of all unique permutations.\n",
        "\n",
        "• Test with strings like ”abc” and ”aab”.\n",
        "print(generate_permutations(\"abc\"))\n",
        "\n",
        "Should return [’abc’, ’acb’, ’bac’, ’bca’, ’cab’, ’cba’]\n"
      ],
      "metadata": {
        "id": "C96tPkmY9iFF"
      }
    },
    {
      "cell_type": "code",
      "source": [
        "def generate_permutations(s):\n",
        "    def backtrack(start, s_list, result):\n",
        "\n",
        "        if start == len(s_list):\n",
        "            result.append(\"\".join(s_list))\n",
        "            return\n",
        "\n",
        "        # Set is used to avoid duplication\n",
        "        seen = set()\n",
        "\n",
        "        for i in range(start, len(s_list)):\n",
        "\n",
        "            if s_list[i] in seen:\n",
        "                continue\n",
        "            seen.add(s_list[i])\n",
        "\n",
        "\n",
        "            s_list[start], s_list[i] = s_list[i], s_list[start]\n",
        "\n",
        "\n",
        "            backtrack(start + 1, s_list, result)\n",
        "\n",
        "\n",
        "            s_list[start], s_list[i] = s_list[i], s_list[start]\n",
        "\n",
        "    result = []\n",
        "    s_list = list(s)\n",
        "    backtrack(0, s_list, result)\n",
        "    return result\n",
        "\n",
        "\n",
        "print(generate_permutations(\"abc\"))\n",
        "\n",
        "print(generate_permutations(\"aab\"))\n",
        "\n"
      ],
      "metadata": {
        "colab": {
          "base_uri": "https://localhost:8080/"
        },
        "id": "xJSr_CiZ-sEp",
        "outputId": "aae13103-ffa7-4a6e-b534-5aa5793cefc1"
      },
      "execution_count": null,
      "outputs": [
        {
          "output_type": "stream",
          "name": "stdout",
          "text": [
            "['abc', 'acb', 'bac', 'bca', 'cba', 'cab']\n",
            "['aab', 'aba', 'baa']\n"
          ]
        }
      ]
    },
    {
      "cell_type": "markdown",
      "source": [
        "Task 3 - Directory Size Calculation:\n",
        "1. Write a recursive function calculate_directory_size(directory) where:\n",
        "• directory is a dictionary where keys represent file names (with values as sizes in KB) or directory names (with values as another dictionary representing a subdi rectory).\n",
        "• The function should return the total size of the directory, including all nested subdirectories.\n",
        "2. Test the function with a sample directory structure.\n"
      ],
      "metadata": {
        "id": "m70UHB0g_g5n"
      }
    },
    {
      "cell_type": "code",
      "source": [
        "def calculate_directory_size(directory):\n",
        "    total_size = 0\n",
        "    for key, value in directory.items():\n",
        "        if isinstance(value, dict):\n",
        "            # If the value is a dictionary, it's a subdirectory. Recur on it.\n",
        "            total_size += calculate_directory_size(value)\n",
        "        else:\n",
        "            # Otherwise, it's a file. Add its size to the total.\n",
        "            total_size += value\n",
        "    return total_size\n",
        "\n",
        "# Sample directory structure\n",
        "directory_structure = {\n",
        "    \"file1.txt\": 200,\n",
        "    \"file2.txt\": 300,\n",
        "    \"subdir1\": {\n",
        "        \"file3.txt\": 400,\n",
        "        \"file4.txt\": 100\n",
        "    },\n",
        "    \"subdir2\": {\n",
        "        \"subsubdir1\": {\n",
        "            \"file5.txt\": 250\n",
        "        },\n",
        "        \"file6.txt\": 150\n",
        "    }\n",
        "}\n",
        "\n",
        "# Test the function\n",
        "total_size = calculate_directory_size(directory_structure)\n",
        "print(f\"Total size of the directory: {total_size} KB\")"
      ],
      "metadata": {
        "colab": {
          "base_uri": "https://localhost:8080/"
        },
        "id": "6OCtFnn-_yNS",
        "outputId": "0ae833e6-295e-4d7e-e735-9007a7f66822"
      },
      "execution_count": null,
      "outputs": [
        {
          "output_type": "stream",
          "name": "stdout",
          "text": [
            "Total size of the directory: 1400 KB\n"
          ]
        }
      ]
    },
    {
      "cell_type": "markdown",
      "source": [
        "Task 1 - Coin Change Problem:\n",
        "Scenario: Given a set of coin denominations and a target amount, find the minimum number of coins needed to make the amount. If it’s not possible, return - 1.\n",
        "Task:\n",
        "1. Write a function min_coins(coins, amount) that:\n",
        "• Uses DP to calculate the minimum number of coins needed to make up the amount.\n",
        "2. Test with coins = [1, 2, 5] and amount = 11. The result should be 3 (using coins [5, 5, 1]).\n"
      ],
      "metadata": {
        "id": "9pAdH5rAAp3q"
      }
    },
    {
      "cell_type": "code",
      "source": [
        "def min_coins(coins, amount):\n",
        "    \"\"\"\n",
        "    Finds the minimum number of coins needed to make up a given amount using dynamic programming.\n",
        "\n",
        "    Parameters:\n",
        "    coins (list of int): List of available coin denominations.\n",
        "    amount (int): Target amount to achieve.\n",
        "\n",
        "    Returns:\n",
        "    int: Minimum number of coins needed, or -1 if it's not possible to make the amount.\n",
        "    \"\"\"\n",
        "\n",
        "    dp = [float('inf')] * (amount + 1)\n",
        "    dp[0] = 0\n",
        "\n",
        "    for coin in coins:\n",
        "        for i in range(coin, amount + 1):\n",
        "            dp[i] = min(dp[i], dp[i - coin] + 1)\n",
        "\n",
        "    return dp[amount] if dp[amount] != float('inf') else -1\n",
        "\n",
        "# Test case\n",
        "coins = [1, 2, 5]\n",
        "amount = 11\n",
        "result = min_coins(coins, amount)\n",
        "print(f\"Minimum coins to make {amount}: {result}\")"
      ],
      "metadata": {
        "colab": {
          "base_uri": "https://localhost:8080/"
        },
        "id": "l7m1ay36AsfD",
        "outputId": "49cd0463-09cd-4b2e-e0ca-3b5e4b0ed466"
      },
      "execution_count": null,
      "outputs": [
        {
          "output_type": "stream",
          "name": "stdout",
          "text": [
            "Minimum coins to make 11: 3\n"
          ]
        }
      ]
    },
    {
      "cell_type": "markdown",
      "source": [
        "Task 2 - Longest Common Subsequence (LCS):\n",
        "\n",
        "Scenario: Given two strings, find the length of their longest common subsequence (LCS). This is useful in text comparison.\n",
        "\n",
        "Task:\n",
        "1. Write a function longest_common_subsequence(s1, s2) that:\n",
        "• Uses DP to find the length of the LCS of two strings s1 and s2.\n",
        "2. Test with strings like \"abcde\" and \"ace\"; the LCS length should be 3 (\"ace\"). 23\n"
      ],
      "metadata": {
        "id": "syd6h8AMBLxP"
      }
    },
    {
      "cell_type": "code",
      "source": [
        "def longest_common_subsequence(s1, s2):\n",
        "    \"\"\"\n",
        "    Finds the length and the actual Longest Common Subsequence (LCS) of two strings using dynamic programming.\n",
        "\n",
        "    Parameters:\n",
        "    s1 (str): First string.\n",
        "    s2 (str): Second string.\n",
        "\n",
        "    Returns:\n",
        "    int: Length of the LCS.\n",
        "    str: The LCS itself.\n",
        "    \"\"\"\n",
        "    m, n = len(s1), len(s2)\n",
        "\n",
        "    # 2D array to store LCS information\n",
        "    dp = [[\"\"] * (n + 1) for _ in range(m + 1)]\n",
        "\n",
        "    for i in range(1, m + 1):\n",
        "        for j in range(1, n + 1):\n",
        "            if s1[i - 1] == s2[j - 1]:  # If characters match\n",
        "                dp[i][j] = dp[i - 1][j - 1] + s1[i - 1]\n",
        "            else:  # If characters don't match, take the existing LCS\n",
        "                dp[i][j] = dp[i - 1][j] if len(dp[i - 1][j]) > len(dp[i][j - 1]) else dp[i][j - 1]\n",
        "\n",
        "    lcs_string = dp[m][n]\n",
        "    return len(lcs_string), lcs_string\n",
        "\n",
        "\n",
        "# Test case\n",
        "s1 = \"abcde\"\n",
        "s2 = \"ace\"\n",
        "lcs_length, lcs_string = longest_common_subsequence(s1, s2)\n",
        "print(f\"LCS length is {lcs_length}, and the LCS is '{lcs_string}'\")\n"
      ],
      "metadata": {
        "colab": {
          "base_uri": "https://localhost:8080/"
        },
        "id": "iWS8HaosBPJ5",
        "outputId": "fe12b6df-ef66-496f-a4f7-a997b6c08365"
      },
      "execution_count": null,
      "outputs": [
        {
          "output_type": "stream",
          "name": "stdout",
          "text": [
            "LCS length is 3, and the LCS is 'ace'\n"
          ]
        }
      ]
    },
    {
      "cell_type": "markdown",
      "source": [
        "Task 3 -\n",
        "0/1 Knapsack Problem:\n",
        "\n",
        "Scenario: You have a list of items, each with a weight and a value. Given a weight capacity, maximize the total value of items you can carry without exceeding the weight capacity. Task:\n",
        "1. Write a function knapsack(weights, values, capacity) that:\n",
        "• Uses DP to determine the maximum value that can be achieved within the given weight capacity.\n",
        "2. Test with weights [1, 3, 4, 5], values [1, 4, 5, 7], and capacity 7. The re sult should be 9.\n"
      ],
      "metadata": {
        "id": "u671idfZCj-4"
      }
    },
    {
      "cell_type": "code",
      "source": [
        "def knapsack(weights, values, capacity):\n",
        "    \"\"\"\n",
        "    Solves the 0/1 Knapsack problem using dynamic programming.\n",
        "\n",
        "    Parameters:\n",
        "    weights (list of int): List of item weights.\n",
        "    values (list of int): List of item values.\n",
        "    capacity (int): Maximum weight capacity of the knapsack.\n",
        "\n",
        "    Returns:\n",
        "    int: The maximum value that can be achieved within the given capacity.\n",
        "    \"\"\"\n",
        "    n = len(weights)\n",
        "    # Initialize a DP table with dimensions (n+1) x (capacity+1)\n",
        "    dp = [[0] * (capacity + 1) for _ in range(n + 1)]\n",
        "\n",
        "    # Fill the DP table\n",
        "    for i in range(1, n + 1):\n",
        "        for w in range(capacity + 1):\n",
        "            if weights[i - 1] <= w:  # Item can be included\n",
        "                dp[i][w] = max(dp[i - 1][w], dp[i - 1][w - weights[i - 1]] + values[i - 1])\n",
        "            else:  # Item cannot be included\n",
        "                dp[i][w] = dp[i - 1][w]\n",
        "\n",
        "    # The bottom-right cell contains the maximum value\n",
        "    return dp[n][capacity]\n",
        "\n",
        "# Test case\n",
        "weights = [1, 3, 4, 5]\n",
        "values = [1, 4, 5, 7]\n",
        "capacity = 7\n",
        "result = knapsack(weights, values, capacity)\n",
        "print(f\"Maximum value of given capacity is : {result}\")"
      ],
      "metadata": {
        "colab": {
          "base_uri": "https://localhost:8080/"
        },
        "id": "nbLVPnuHCq_O",
        "outputId": "0f91374d-c7aa-414d-a0ac-fae3f2fc9f01"
      },
      "execution_count": null,
      "outputs": [
        {
          "output_type": "stream",
          "name": "stdout",
          "text": [
            "Maximum value of given capacity is : 9\n"
          ]
        }
      ]
    }
  ]
}